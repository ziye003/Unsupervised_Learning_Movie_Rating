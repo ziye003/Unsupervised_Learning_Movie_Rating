{
 "cells": [
  {
   "cell_type": "markdown",
   "metadata": {},
   "source": [
    "# Movie Recommendation"
   ]
  },
  {
   "cell_type": "markdown",
   "metadata": {},
   "source": [
    "Distance matrix [nUser,nUser], distance btw User A and UserB\n",
    "\n",
    "\n",
    "Movie Rating matrix [nMovie,nUser], Rating of each movie by each User\n",
    "\n",
    "\n",
    "Frequency matrix[nMovie], total times watched by each User\n",
    "\n",
    "\n",
    "weight matrix=1/frequency matrix\n",
    "\n",
    "\n",
    "For specific user N,\n",
    "UnweightedRes=  Movie Rating[,]  * Distance matrix [,N] --> [nMovie,1]\n",
    "\n",
    "return UnweightedRes*weight matrix"
   ]
  },
  {
   "cell_type": "code",
   "execution_count": 3,
   "metadata": {},
   "outputs": [],
   "source": [
    "# import libraris\n",
    "import numpy as np\n",
    "import pandas as pd\n",
    "import matplotlib as mlp\n",
    "\n",
    "from scipy.sparse import csr_matrix\n",
    "from mpl_toolkits.axes_grid1 import make_axes_locatable\n",
    "from sklearn.cluster import KMeans\n",
    "from sklearn.metrics import mean_squared_error\n",
    "import itertools\n",
    "from sklearn.metrics import silhouette_samples, silhouette_score\n",
    "\n",
    "from scipy import spatial\n",
    "\n",
    "%matplotlib inline"
   ]
  },
  {
   "cell_type": "markdown",
   "metadata": {},
   "source": [
    "# Import data"
   ]
  },
  {
   "cell_type": "code",
   "execution_count": 126,
   "metadata": {},
   "outputs": [
    {
     "name": "stdout",
     "output_type": "stream",
     "text": [
      "              1   2   3   4    5    6    7    8   9  10  ...  601  602  603  \\\n",
      "Unnamed: 0                                               ...                  \n",
      "1           4.0 NaN NaN NaN  4.0  NaN  4.5  NaN NaN NaN  ...  4.0  NaN  4.0   \n",
      "3           NaN NaN NaN NaN  NaN  4.0  NaN  4.0 NaN NaN  ...  NaN  4.0  NaN   \n",
      "6           4.0 NaN NaN NaN  NaN  5.0  NaN  NaN NaN NaN  ...  NaN  NaN  NaN   \n",
      "47          NaN NaN NaN NaN  NaN  3.0  NaN  NaN NaN NaN  ...  NaN  NaN  NaN   \n",
      "50          NaN NaN NaN NaN  NaN  5.0  NaN  NaN NaN NaN  ...  NaN  NaN  NaN   \n",
      "\n",
      "            604  605  606  607  608  609  610  \n",
      "Unnamed: 0                                     \n",
      "1           3.0  4.0  2.5  4.0  2.5  3.0  5.0  \n",
      "3           5.0  3.5  NaN  NaN  2.0  NaN  NaN  \n",
      "6           NaN  NaN  NaN  NaN  2.0  NaN  NaN  \n",
      "47          NaN  NaN  NaN  NaN  NaN  NaN  NaN  \n",
      "50          3.0  NaN  NaN  NaN  NaN  NaN  NaN  \n",
      "\n",
      "[5 rows x 610 columns]\n",
      "(9724, 610)\n"
     ]
    },
    {
     "data": {
      "text/plain": [
       "Index(['1', '2', '3', '4', '5', '6', '7', '8', '9', '10',\n",
       "       ...\n",
       "       '601', '602', '603', '604', '605', '606', '607', '608', '609', '610'],\n",
       "      dtype='object', length=610)"
      ]
     },
     "execution_count": 126,
     "metadata": {},
     "output_type": "execute_result"
    }
   ],
   "source": [
    "rating = pd.read_csv('movie.csv')\n",
    "\n",
    "MovieId=rating.iloc[:,0]\n",
    "rating=rating.drop(columns=['Unnamed: 0'])\n",
    "rating.index=MovieId\n",
    "print(rating.head())\n",
    "print(rating.shape)\n",
    "UserId=rating.columns\n",
    "UserId"
   ]
  },
  {
   "cell_type": "markdown",
   "metadata": {},
   "source": [
    "# Calculate top recommended movie"
   ]
  },
  {
   "cell_type": "code",
   "execution_count": 127,
   "metadata": {},
   "outputs": [],
   "source": [
    "R=rating.fillna(0) #fating matrix\n",
    "User='1'"
   ]
  },
  {
   "cell_type": "code",
   "execution_count": 141,
   "metadata": {},
   "outputs": [],
   "source": [
    "def recommendation (rating, person):\n",
    "    #distance matrix\n",
    "    cos_dis_matrix=[]\n",
    "    for a in UserId:\n",
    "        R1=R.loc[:,person]\n",
    "        Ra=R.loc[:,a]\n",
    "        result = 1 - spatial.distance.cosine(R1, Ra)\n",
    "        cos_dis_matrix.append(result)\n",
    "    \n",
    "    Euc_dis_matrix=[]\n",
    "    for a in UserId:\n",
    "        R1=R.loc[:,person]\n",
    "        Ra=R.loc[:,a]\n",
    "        result = abs(np.linalg.norm(R1 - Ra))\n",
    "        Euc_dis_matrix.append(result)\n",
    "  \n",
    "        \n",
    "    \n",
    "    #weight matrix\n",
    "    freq_matrix=np.count_nonzero(R,axis=1)\n",
    "    weight_matrix=1/freq_matrix\n",
    "    \n",
    "    # UnweightedRes= Movie Rating[nMovie,nUser] * Distance matrix [nUser] --> [nMovie]\n",
    "    #Unweighted_Score = np.dot(rating,cos_dis_matrix)\n",
    "    Unweighted_Score = np.dot(rating,Euc_dis_matrix)\n",
    "    \n",
    "    #score for each movie\n",
    "    Score=Unweighted_Score*weight_matrix\n",
    "    Score=pd.DataFrame(Score)\n",
    "    Score.index=rating.index\n",
    "    Score.columns=['Score']\n",
    "    Score=Score.sort_values(by=['Score'],ascending=False)\n",
    "\n",
    "\n",
    "    return Score\n",
    "    "
   ]
  },
  {
   "cell_type": "code",
   "execution_count": 142,
   "metadata": {},
   "outputs": [
    {
     "data": {
      "text/html": [
       "<div>\n",
       "<style scoped>\n",
       "    .dataframe tbody tr th:only-of-type {\n",
       "        vertical-align: middle;\n",
       "    }\n",
       "\n",
       "    .dataframe tbody tr th {\n",
       "        vertical-align: top;\n",
       "    }\n",
       "\n",
       "    .dataframe thead th {\n",
       "        text-align: right;\n",
       "    }\n",
       "</style>\n",
       "<table border=\"1\" class=\"dataframe\">\n",
       "  <thead>\n",
       "    <tr style=\"text-align: right;\">\n",
       "      <th></th>\n",
       "      <th>Score</th>\n",
       "      <th>movieId</th>\n",
       "    </tr>\n",
       "    <tr>\n",
       "      <th>Unnamed: 0</th>\n",
       "      <th></th>\n",
       "      <th></th>\n",
       "    </tr>\n",
       "  </thead>\n",
       "  <tbody>\n",
       "    <tr>\n",
       "      <th>85295</th>\n",
       "      <td>880.308895</td>\n",
       "      <td>85295</td>\n",
       "    </tr>\n",
       "    <tr>\n",
       "      <th>4437</th>\n",
       "      <td>880.308895</td>\n",
       "      <td>4437</td>\n",
       "    </tr>\n",
       "    <tr>\n",
       "      <th>53280</th>\n",
       "      <td>880.308895</td>\n",
       "      <td>53280</td>\n",
       "    </tr>\n",
       "    <tr>\n",
       "      <th>25937</th>\n",
       "      <td>800.171857</td>\n",
       "      <td>25937</td>\n",
       "    </tr>\n",
       "    <tr>\n",
       "      <th>4356</th>\n",
       "      <td>800.171857</td>\n",
       "      <td>4356</td>\n",
       "    </tr>\n",
       "    <tr>\n",
       "      <th>...</th>\n",
       "      <td>...</td>\n",
       "      <td>...</td>\n",
       "    </tr>\n",
       "    <tr>\n",
       "      <th>90374</th>\n",
       "      <td>35.653716</td>\n",
       "      <td>90374</td>\n",
       "    </tr>\n",
       "    <tr>\n",
       "      <th>4927</th>\n",
       "      <td>35.653716</td>\n",
       "      <td>4927</td>\n",
       "    </tr>\n",
       "    <tr>\n",
       "      <th>5636</th>\n",
       "      <td>35.653716</td>\n",
       "      <td>5636</td>\n",
       "    </tr>\n",
       "    <tr>\n",
       "      <th>202</th>\n",
       "      <td>35.192329</td>\n",
       "      <td>202</td>\n",
       "    </tr>\n",
       "    <tr>\n",
       "      <th>4973</th>\n",
       "      <td>0.000000</td>\n",
       "      <td>4973</td>\n",
       "    </tr>\n",
       "  </tbody>\n",
       "</table>\n",
       "<p>9724 rows × 2 columns</p>\n",
       "</div>"
      ],
      "text/plain": [
       "                 Score  movieId\n",
       "Unnamed: 0                     \n",
       "85295       880.308895    85295\n",
       "4437        880.308895     4437\n",
       "53280       880.308895    53280\n",
       "25937       800.171857    25937\n",
       "4356        800.171857     4356\n",
       "...                ...      ...\n",
       "90374        35.653716    90374\n",
       "4927         35.653716     4927\n",
       "5636         35.653716     5636\n",
       "202          35.192329      202\n",
       "4973          0.000000     4973\n",
       "\n",
       "[9724 rows x 2 columns]"
      ]
     },
     "execution_count": 142,
     "metadata": {},
     "output_type": "execute_result"
    }
   ],
   "source": [
    "res=recommendation(R,User)\n",
    "res['movieId']=res.index\n",
    "res"
   ]
  },
  {
   "cell_type": "code",
   "execution_count": 143,
   "metadata": {},
   "outputs": [
    {
     "name": "stdout",
     "output_type": "stream",
     "text": [
      "   movieId                               title  \\\n",
      "0        1                    Toy Story (1995)   \n",
      "1        2                      Jumanji (1995)   \n",
      "2        3             Grumpier Old Men (1995)   \n",
      "3        4            Waiting to Exhale (1995)   \n",
      "4        5  Father of the Bride Part II (1995)   \n",
      "\n",
      "                                        genres  \n",
      "0  Adventure|Animation|Children|Comedy|Fantasy  \n",
      "1                   Adventure|Children|Fantasy  \n",
      "2                               Comedy|Romance  \n",
      "3                         Comedy|Drama|Romance  \n",
      "4                                       Comedy  \n"
     ]
    }
   ],
   "source": [
    "#get the name of movies\n",
    "info_df=pd.read_csv('movies.csv')\n",
    "print(info_df.head())"
   ]
  },
  {
   "cell_type": "code",
   "execution_count": 144,
   "metadata": {},
   "outputs": [
    {
     "name": "stdout",
     "output_type": "stream",
     "text": [
      "(9724, 4)\n"
     ]
    },
    {
     "data": {
      "text/html": [
       "<div>\n",
       "<style scoped>\n",
       "    .dataframe tbody tr th:only-of-type {\n",
       "        vertical-align: middle;\n",
       "    }\n",
       "\n",
       "    .dataframe tbody tr th {\n",
       "        vertical-align: top;\n",
       "    }\n",
       "\n",
       "    .dataframe thead th {\n",
       "        text-align: right;\n",
       "    }\n",
       "</style>\n",
       "<table border=\"1\" class=\"dataframe\">\n",
       "  <thead>\n",
       "    <tr style=\"text-align: right;\">\n",
       "      <th></th>\n",
       "      <th>Score</th>\n",
       "      <th>movieId</th>\n",
       "      <th>title</th>\n",
       "      <th>genres</th>\n",
       "    </tr>\n",
       "  </thead>\n",
       "  <tbody>\n",
       "    <tr>\n",
       "      <th>0</th>\n",
       "      <td>880.308895</td>\n",
       "      <td>85295</td>\n",
       "      <td>Scooby-Doo! Curse of the Lake Monster (2010)</td>\n",
       "      <td>Adventure|Children|Comedy|Mystery</td>\n",
       "    </tr>\n",
       "    <tr>\n",
       "      <th>1</th>\n",
       "      <td>880.308895</td>\n",
       "      <td>4437</td>\n",
       "      <td>Suspiria (1977)</td>\n",
       "      <td>Horror</td>\n",
       "    </tr>\n",
       "    <tr>\n",
       "      <th>2</th>\n",
       "      <td>880.308895</td>\n",
       "      <td>53280</td>\n",
       "      <td>Breed, The (2006)</td>\n",
       "      <td>Horror|Thriller</td>\n",
       "    </tr>\n",
       "    <tr>\n",
       "      <th>3</th>\n",
       "      <td>800.171857</td>\n",
       "      <td>25937</td>\n",
       "      <td>Easter Parade (1948)</td>\n",
       "      <td>Musical|Romance</td>\n",
       "    </tr>\n",
       "    <tr>\n",
       "      <th>4</th>\n",
       "      <td>800.171857</td>\n",
       "      <td>4356</td>\n",
       "      <td>Gentlemen Prefer Blondes (1953)</td>\n",
       "      <td>Comedy|Musical|Romance</td>\n",
       "    </tr>\n",
       "    <tr>\n",
       "      <th>...</th>\n",
       "      <td>...</td>\n",
       "      <td>...</td>\n",
       "      <td>...</td>\n",
       "      <td>...</td>\n",
       "    </tr>\n",
       "    <tr>\n",
       "      <th>9719</th>\n",
       "      <td>35.653716</td>\n",
       "      <td>90374</td>\n",
       "      <td>Martha Marcy May Marlene (2011)</td>\n",
       "      <td>Drama|Thriller</td>\n",
       "    </tr>\n",
       "    <tr>\n",
       "      <th>9720</th>\n",
       "      <td>35.653716</td>\n",
       "      <td>4927</td>\n",
       "      <td>Last Wave, The (1977)</td>\n",
       "      <td>Fantasy|Mystery|Thriller</td>\n",
       "    </tr>\n",
       "    <tr>\n",
       "      <th>9721</th>\n",
       "      <td>35.653716</td>\n",
       "      <td>5636</td>\n",
       "      <td>Welcome to Collinwood (2002)</td>\n",
       "      <td>Comedy|Crime</td>\n",
       "    </tr>\n",
       "    <tr>\n",
       "      <th>9722</th>\n",
       "      <td>35.192329</td>\n",
       "      <td>202</td>\n",
       "      <td>Total Eclipse (1995)</td>\n",
       "      <td>Drama|Romance</td>\n",
       "    </tr>\n",
       "    <tr>\n",
       "      <th>9723</th>\n",
       "      <td>0.000000</td>\n",
       "      <td>4973</td>\n",
       "      <td>Amelie (Fabuleux destin d'Amélie Poulain, Le) ...</td>\n",
       "      <td>Comedy|Romance</td>\n",
       "    </tr>\n",
       "  </tbody>\n",
       "</table>\n",
       "<p>9724 rows × 4 columns</p>\n",
       "</div>"
      ],
      "text/plain": [
       "           Score  movieId                                              title  \\\n",
       "0     880.308895    85295       Scooby-Doo! Curse of the Lake Monster (2010)   \n",
       "1     880.308895     4437                                    Suspiria (1977)   \n",
       "2     880.308895    53280                                  Breed, The (2006)   \n",
       "3     800.171857    25937                               Easter Parade (1948)   \n",
       "4     800.171857     4356                    Gentlemen Prefer Blondes (1953)   \n",
       "...          ...      ...                                                ...   \n",
       "9719   35.653716    90374                    Martha Marcy May Marlene (2011)   \n",
       "9720   35.653716     4927                              Last Wave, The (1977)   \n",
       "9721   35.653716     5636                       Welcome to Collinwood (2002)   \n",
       "9722   35.192329      202                               Total Eclipse (1995)   \n",
       "9723    0.000000     4973  Amelie (Fabuleux destin d'Amélie Poulain, Le) ...   \n",
       "\n",
       "                                 genres  \n",
       "0     Adventure|Children|Comedy|Mystery  \n",
       "1                                Horror  \n",
       "2                       Horror|Thriller  \n",
       "3                       Musical|Romance  \n",
       "4                Comedy|Musical|Romance  \n",
       "...                                 ...  \n",
       "9719                     Drama|Thriller  \n",
       "9720           Fantasy|Mystery|Thriller  \n",
       "9721                       Comedy|Crime  \n",
       "9722                      Drama|Romance  \n",
       "9723                     Comedy|Romance  \n",
       "\n",
       "[9724 rows x 4 columns]"
      ]
     },
     "execution_count": 144,
     "metadata": {},
     "output_type": "execute_result"
    }
   ],
   "source": [
    "#Merge by movieId\n",
    "recommendation=pd.merge(res,info_df,how='left',on=['movieId'])\n",
    "print(recommendation.shape)\n",
    "recommendation"
   ]
  },
  {
   "cell_type": "markdown",
   "metadata": {},
   "source": [
    "# Print out the result"
   ]
  },
  {
   "cell_type": "code",
   "execution_count": 145,
   "metadata": {},
   "outputs": [
    {
     "name": "stdout",
     "output_type": "stream",
     "text": [
      "The top 6 recommended movie for userId 1 is\n",
      "\n",
      "         Score  movieId                                         title  \\\n",
      "0  880.308895    85295  Scooby-Doo! Curse of the Lake Monster (2010)   \n",
      "1  880.308895     4437                               Suspiria (1977)   \n",
      "2  880.308895    53280                             Breed, The (2006)   \n",
      "3  800.171857    25937                          Easter Parade (1948)   \n",
      "4  800.171857     4356               Gentlemen Prefer Blondes (1953)   \n",
      "5  792.278005     2651        Frankenstein Meets the Wolf Man (1943)   \n",
      "\n",
      "                              genres  \n",
      "0  Adventure|Children|Comedy|Mystery  \n",
      "1                             Horror  \n",
      "2                    Horror|Thriller  \n",
      "3                    Musical|Romance  \n",
      "4             Comedy|Musical|Romance  \n",
      "5                             Horror  \n"
     ]
    }
   ],
   "source": [
    "print('The top 6 recommended movie for userId {} is\\n\\n {}'.format(User, recommendation.head(6)))"
   ]
  },
  {
   "cell_type": "code",
   "execution_count": null,
   "metadata": {},
   "outputs": [],
   "source": []
  },
  {
   "cell_type": "code",
   "execution_count": null,
   "metadata": {},
   "outputs": [],
   "source": []
  }
 ],
 "metadata": {
  "kernelspec": {
   "display_name": "Python 3",
   "language": "python",
   "name": "python3"
  },
  "language_info": {
   "codemirror_mode": {
    "name": "ipython",
    "version": 3
   },
   "file_extension": ".py",
   "mimetype": "text/x-python",
   "name": "python",
   "nbconvert_exporter": "python",
   "pygments_lexer": "ipython3",
   "version": "3.7.6"
  }
 },
 "nbformat": 4,
 "nbformat_minor": 4
}
